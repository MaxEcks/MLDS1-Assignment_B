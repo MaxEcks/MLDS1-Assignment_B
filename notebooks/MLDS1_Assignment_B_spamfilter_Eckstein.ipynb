{
 "cells": [
  {
   "cell_type": "markdown",
   "id": "19f41fc1",
   "metadata": {},
   "source": [
    "## Machine Learning and Data Science 1 - Assignment B\n",
    "\n",
    "Name: Maximilian Eckstein \\\n",
    "Student ID: 52315825 \\\n",
    "Assignment: B - Designing a Spam Filter \\\n",
    "Date: 2025-06-19\n",
    "\n"
   ]
  },
  {
   "cell_type": "code",
   "execution_count": null,
   "id": "47db0159",
   "metadata": {},
   "outputs": [
    {
     "name": "stdout",
     "output_type": "stream",
     "text": [
      "True\n",
      "True\n"
     ]
    }
   ],
   "source": [
    "from pathlib import Path\n",
    "\n",
    "raw_data_dir = Path(\"../data/raw\")\n",
    "\n",
    "easy_ham = raw_data_dir / \"easy_ham\"\n",
    "easy_ham_2 = raw_data_dir / \"easy_ham_2\"\n",
    "hard_ham = raw_data_dir / \"hard_ham\"\n",
    "spam = raw_data_dir / \"spam\"\n",
    "spam_2 = raw_data_dir / \"spam_2\"\n",
    "\n",
    "processed_data_dir = Path(\"../data/processed\")\n",
    "\n",
    "print(raw_data_dir.exists())\n",
    "print(processed_data_dir.exists())\n"
   ]
  }
 ],
 "metadata": {
  "kernelspec": {
   "display_name": ".venv",
   "language": "python",
   "name": "python3"
  },
  "language_info": {
   "codemirror_mode": {
    "name": "ipython",
    "version": 3
   },
   "file_extension": ".py",
   "mimetype": "text/x-python",
   "name": "python",
   "nbconvert_exporter": "python",
   "pygments_lexer": "ipython3",
   "version": "3.12.7"
  }
 },
 "nbformat": 4,
 "nbformat_minor": 5
}
